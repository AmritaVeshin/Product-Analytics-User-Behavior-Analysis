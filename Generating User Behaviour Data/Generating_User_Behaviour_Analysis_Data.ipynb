{
  "nbformat": 4,
  "nbformat_minor": 0,
  "metadata": {
    "colab": {
      "provenance": []
    },
    "kernelspec": {
      "name": "python3",
      "display_name": "Python 3"
    },
    "language_info": {
      "name": "python"
    }
  },
  "cells": [
    {
      "cell_type": "markdown",
      "source": [
        "__Name:__ Amrita Veshin <br>\n",
        "__Email:__ amritav99@gmail.com\n",
        "\n",
        "-------------------------------------------------------------------------------------------------------\n",
        "# <center> Generating User Behaviour Analysis Data Using Pandas and Faker Library\n",
        "-------------------------------------------------------------------------------------------------------\n",
        "## Introduction\n",
        "\n",
        "Welcome to this Google Colab notebook on \"Generating User Behavior Analysis Data Using Pandas.\" In the field of data analytics, understanding user behavior is of paramount importance for optimizing products and services, enhancing user experiences, and making informed business decisions. However, obtaining real user data for analysis can be challenging due to privacy concerns or data availability limitations.\n",
        "\n",
        "In this notebook, we address this challenge by demonstrating how to generate synthetic user behavior data using Python and the `Faker` library. This approach allows us to create a dataset that closely resembles real-world user interactions, making it an invaluable resource for professionals, students, and organizations seeking to explore and practice user behavior analysis techniques.\n"
      ],
      "metadata": {
        "id": "9EgqwfSFdmws"
      }
    },
    {
      "cell_type": "markdown",
      "source": [
        "## Importing Necessary Libraries"
      ],
      "metadata": {
        "id": "TYHmhE6Gv6Zt"
      }
    },
    {
      "cell_type": "code",
      "source": [
        "!pip install faker\n",
        "\n",
        "import pandas as pd\n",
        "import random\n",
        "from faker import Faker\n",
        "import datetime\n"
      ],
      "metadata": {
        "colab": {
          "base_uri": "https://localhost:8080/"
        },
        "id": "AQJdjH4GvSOR",
        "outputId": "86a73b0e-6363-4420-9c11-084f20536d78"
      },
      "execution_count": 3,
      "outputs": [
        {
          "output_type": "stream",
          "name": "stdout",
          "text": [
            "Collecting faker\n",
            "  Downloading Faker-19.6.2-py3-none-any.whl (1.7 MB)\n",
            "\u001b[2K     \u001b[90m━━━━━━━━━━━━━━━━━━━━━━━━━━━━━━━━━━━━━━━━\u001b[0m \u001b[32m1.7/1.7 MB\u001b[0m \u001b[31m9.6 MB/s\u001b[0m eta \u001b[36m0:00:00\u001b[0m\n",
            "\u001b[?25hRequirement already satisfied: python-dateutil>=2.4 in /usr/local/lib/python3.10/dist-packages (from faker) (2.8.2)\n",
            "Requirement already satisfied: six>=1.5 in /usr/local/lib/python3.10/dist-packages (from python-dateutil>=2.4->faker) (1.16.0)\n",
            "Installing collected packages: faker\n",
            "Successfully installed faker-19.6.2\n"
          ]
        }
      ]
    },
    {
      "cell_type": "markdown",
      "source": [
        "## Defining required objects"
      ],
      "metadata": {
        "id": "zAi7WHdfwGX2"
      }
    },
    {
      "cell_type": "code",
      "source": [
        "# Create a Faker object to generate random user data\n",
        "fake = Faker()\n",
        "\n",
        "# Define lists of possible actions and page types\n",
        "actions = ['Viewed', 'Added_to_Cart', 'Initiated', 'Purchase']\n",
        "page_types = ['Landing_Page', 'Product_Page', 'Cart', 'Checkout', 'Thank_You']\n",
        "\n",
        "# Initialize an empty list to store data\n",
        "data = []\n",
        "\n",
        "# Create a set to track unique user IDs\n",
        "unique_user_ids = set()\n"
      ],
      "metadata": {
        "id": "0d3IAeQsvaSH"
      },
      "execution_count": 11,
      "outputs": []
    },
    {
      "cell_type": "markdown",
      "source": [
        "## Generating User Behaviour Data through For() Loop"
      ],
      "metadata": {
        "id": "K6yqJDS1zwdq"
      }
    },
    {
      "cell_type": "code",
      "source": [
        "# Generate 10,000 records\n",
        "for _ in range(10000):\n",
        "    # Ensure unique user IDs\n",
        "    while True:\n",
        "        user_id = fake.random_int(min=1, max=10000)\n",
        "        if user_id not in unique_user_ids:\n",
        "            unique_user_ids.add(user_id)\n",
        "            break\n",
        "\n",
        "    session_id = fake.random_int(min=1000, max=9999)\n",
        "    date = fake.date_between(start_date='-30d', end_date='today')  # Random date within the last 30 days\n",
        "    page_type = random.choice(page_types)\n",
        "    action = random.choice(actions)\n",
        "    product_viewed = fake.random_element(elements=['Product_A', 'Product_B', 'Product_C', 'Product_D'])\n",
        "    cart_added = random.randint(0, 1)\n",
        "    purchase_made = 1 if action == 'Purchase' else 0\n",
        "\n",
        "    data.append([user_id, session_id, date, page_type, action, product_viewed, cart_added, purchase_made])\n"
      ],
      "metadata": {
        "id": "BQivAimWvlFY"
      },
      "execution_count": 12,
      "outputs": []
    },
    {
      "cell_type": "markdown",
      "source": [
        "## Creating a DataFrame to store the generated data"
      ],
      "metadata": {
        "id": "Y1v7xK3gz5yR"
      }
    },
    {
      "cell_type": "code",
      "source": [
        "# Create a DataFrame from the generated data\n",
        "df = pd.DataFrame(data, columns=['User_ID', 'Session_ID', 'Date', 'Page_Type', 'Action', 'Product_Viewed', 'Cart_Added', 'Purchase_Made'])\n",
        "print(df.head())"
      ],
      "metadata": {
        "colab": {
          "base_uri": "https://localhost:8080/"
        },
        "id": "JI3hTgtswe_9",
        "outputId": "313b090c-16ce-4d80-df2b-96d5a11c0108"
      },
      "execution_count": 13,
      "outputs": [
        {
          "output_type": "stream",
          "name": "stdout",
          "text": [
            "   User_ID  Session_ID        Date     Page_Type         Action  \\\n",
            "0     5330        6199  2023-09-16  Product_Page      Initiated   \n",
            "1     3250        3684  2023-09-14  Landing_Page  Added_to_Cart   \n",
            "2     5355        3305  2023-09-01  Landing_Page  Added_to_Cart   \n",
            "3     6141        3173  2023-09-09  Product_Page         Viewed   \n",
            "4     5958        3650  2023-09-06          Cart         Viewed   \n",
            "\n",
            "  Product_Viewed  Cart_Added  Purchase_Made  \n",
            "0      Product_B           1              0  \n",
            "1      Product_C           0              0  \n",
            "2      Product_D           1              0  \n",
            "3      Product_C           0              0  \n",
            "4      Product_D           0              0  \n"
          ]
        }
      ]
    },
    {
      "cell_type": "markdown",
      "source": [
        "## Saving the DataFrame to a CSV file for downloading/storing"
      ],
      "metadata": {
        "id": "viJ3l8jh0Brh"
      }
    },
    {
      "cell_type": "code",
      "source": [
        "# Save the DataFrame to a CSV file\n",
        "df.to_csv('user_behavior_dataset.csv', index=False)"
      ],
      "metadata": {
        "id": "0Ezmb2POzld5"
      },
      "execution_count": 14,
      "outputs": []
    }
  ]
}